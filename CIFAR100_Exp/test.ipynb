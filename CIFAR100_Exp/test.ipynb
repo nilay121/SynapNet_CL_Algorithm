{
 "cells": [
  {
   "cell_type": "code",
   "execution_count": 1,
   "metadata": {},
   "outputs": [],
   "source": [
    "import numpy as np"
   ]
  },
  {
   "cell_type": "code",
   "execution_count": 2,
   "metadata": {},
   "outputs": [
    {
     "data": {
      "text/plain": [
       "array(['exp 0 Stable model accuracy : 0.08721454441547394,        Plastic model accuracy : 0.08060396462678909, working model accuracy : 0.09893329441547394',\n",
       "       'exp 1 Stable model accuracy : 0.13859675824642181,        Plastic model accuracy : 0.13686898350715637, working model accuracy : 0.12717849016189575',\n",
       "       'exp 2 Stable model accuracy : 0.09698016941547394,        Plastic model accuracy : 0.09795673191547394, working model accuracy : 0.07136417925357819',\n",
       "       'exp 3 Stable model accuracy : 0.10261417925357819,        Plastic model accuracy : 0.09555288404226303, working model accuracy : 0.08646333962678909',\n",
       "       'exp 4 Stable model accuracy : 0.17540565133094788,        Plastic model accuracy : 0.16856971383094788, working model accuracy : 0.14280349016189575',\n",
       "       'exp 5 Stable model accuracy : 0.21116286516189575,        Plastic model accuracy : 0.189453125, working model accuracy : 0.12222055345773697',\n",
       "       'exp 6 Stable model accuracy : 0.2685546875,        Plastic model accuracy : 0.2578125, working model accuracy : 0.20402644574642181',\n",
       "       'exp 7 Stable model accuracy : 0.42315202951431274,        Plastic model accuracy : 0.41143327951431274, working model accuracy : 0.30859375',\n",
       "       'exp 8 Stable model accuracy : 0.5622746348381042,        Plastic model accuracy : 0.5374850034713745, working model accuracy : 0.4458383321762085',\n",
       "       'exp 9 Stable model accuracy : 0.5827824473381042,        Plastic model accuracy : 0.6890023946762085, working model accuracy : 0.768479585647583',\n",
       "       'duration 21127.40500497818'], dtype='<U148')"
      ]
     },
     "execution_count": 2,
     "metadata": {},
     "output_type": "execute_result"
    }
   ],
   "source": [
    "a = np.load(\"results/text_experiences10_bufferSize20000.npy\")\n",
    "a"
   ]
  },
  {
   "cell_type": "code",
   "execution_count": 3,
   "metadata": {},
   "outputs": [
    {
     "data": {
      "text/plain": [
       "array(['exp 0 Stable model accuracy : 0.10066105425357819,        Plastic model accuracy : 0.09187199175357819, working model accuracy : 0.11696214228868484',\n",
       "       'exp 1 Stable model accuracy : 0.14152644574642181,        Plastic model accuracy : 0.13566707074642181, working model accuracy : 0.12327224016189575',\n",
       "       'exp 2 Stable model accuracy : 0.11102764308452606,        Plastic model accuracy : 0.09495192766189575, working model accuracy : 0.061598557978868484',\n",
       "       'exp 3 Stable model accuracy : 0.08240684866905212,        Plastic model accuracy : 0.07752403616905212, working model accuracy : 0.06092247739434242',\n",
       "       'exp 4 Stable model accuracy : 0.18224158883094788,        Plastic model accuracy : 0.16759315133094788, working model accuracy : 0.13401442766189575',\n",
       "       'exp 5 Stable model accuracy : 0.20320011675357819,        Plastic model accuracy : 0.18246695399284363, working model accuracy : 0.12026742845773697',\n",
       "       'exp 6 Stable model accuracy : 0.31362679600715637,        Plastic model accuracy : 0.29755109548568726, working model accuracy : 0.2250600904226303',\n",
       "       'exp 7 Stable model accuracy : 0.41909554600715637,        Plastic model accuracy : 0.4019681513309479, working model accuracy : 0.29559797048568726',\n",
       "       'exp 8 Stable model accuracy : 0.5384615659713745,        Plastic model accuracy : 0.4955679178237915, working model accuracy : 0.32301682233810425',\n",
       "       'exp 9 Stable model accuracy : 0.5500300526618958,        Plastic model accuracy : 0.6373196840286255, working model accuracy : 0.7312199473381042',\n",
       "       'duration 21371.58640885353'], dtype='<U149')"
      ]
     },
     "execution_count": 3,
     "metadata": {},
     "output_type": "execute_result"
    }
   ],
   "source": [
    "b = np.load(\"results/text_experiences10_bufferSize20001.npy\")\n",
    "b"
   ]
  },
  {
   "cell_type": "code",
   "execution_count": 4,
   "metadata": {},
   "outputs": [
    {
     "data": {
      "text/plain": [
       "array(['exp 0 Stable model accuracy : 0.08721454441547394,        Plastic model accuracy : 0.07917667925357819, working model accuracy : 0.07917667925357819',\n",
       "       'exp 1 Stable model accuracy : 0.17292667925357819,        Plastic model accuracy : 0.16564002633094788, working model accuracy : 0.13979867100715637',\n",
       "       'exp 2 Stable model accuracy : 0.10772235691547394,        Plastic model accuracy : 0.10013521462678909, working model accuracy : 0.06700721383094788',\n",
       "       'exp 3 Stable model accuracy : 0.12026742845773697,        Plastic model accuracy : 0.11027644574642181, working model accuracy : 0.056565504521131516',\n",
       "       'exp 4 Stable model accuracy : 0.20327523350715637,        Plastic model accuracy : 0.18765023350715637, working model accuracy : 0.13176082074642181',\n",
       "       'exp 5 Stable model accuracy : 0.21905048191547394,        Plastic model accuracy : 0.19831730425357819, working model accuracy : 0.09127103537321091',\n",
       "       'exp 6 Stable model accuracy : 0.3091947138309479,        Plastic model accuracy : 0.28387922048568726, working model accuracy : 0.21296574175357819',\n",
       "       'exp 7 Stable model accuracy : 0.4272836446762085,        Plastic model accuracy : 0.3941556513309479, working model accuracy : 0.24601863324642181',\n",
       "       'exp 8 Stable model accuracy : 0.5203575491905212,        Plastic model accuracy : 0.5123196840286255, working model accuracy : 0.3061898946762085',\n",
       "       'exp 9 Stable model accuracy : 0.5877403616905212,        Plastic model accuracy : 0.673753023147583, working model accuracy : 0.7541316151618958',\n",
       "       'duration 22868.718416452408'], dtype='<U149')"
      ]
     },
     "execution_count": 4,
     "metadata": {},
     "output_type": "execute_result"
    }
   ],
   "source": [
    "c = np.load(\"results/text_experiences10_bufferSize20002.npy\")\n",
    "c"
   ]
  },
  {
   "cell_type": "code",
   "execution_count": 7,
   "metadata": {},
   "outputs": [
    {
     "name": "stdout",
     "output_type": "stream",
     "text": [
      "Task 0 mean is 0.09169671 and std is 0.006338745602861819\n",
      "Task 1 mean is 0.15101662 and std is 0.015538843567565342\n",
      "Task 2 mean is 0.10524338333333333 and std is 0.005996770263424212\n",
      "Task 3 mean is 0.10176281 and std is 0.015468236052661814\n",
      "Task 4 mean is 0.18697415333333334 and std is 0.011859632094086603\n",
      "Task 5 mean is 0.21113781666666664 and std is 0.006470910686069535\n",
      "Task 6 mean is 0.2971253933333333 and std is 0.020283409946114963\n",
      "Task 7 mean is 0.4231770666666667 and std is 0.0033428247440484083\n",
      "Task 8 mean is 0.5403645766666667 and std is 0.017165405381022087\n",
      "here\n",
      "Task 9 mean is 0.6666917003333334 and std is 0.02168213299144571\n"
     ]
    }
   ],
   "source": [
    "num = 10\n",
    "for i in range(num):\n",
    "    if i == num-1:\n",
    "        print(\"here\")\n",
    "        a1 = float(a[i][83:93])\n",
    "        b1 = float(b[i][83:93])\n",
    "        c1 = float(c[i][83:93])\n",
    "    else:\n",
    "        a1 = float(a[i][30:40])\n",
    "        b1 = float(b[i][30:40])\n",
    "        c1 = float(c[i][30:40])\n",
    "    tk_mean = np.mean([a1, b1, c1])\n",
    "    tk_std = np.std([a1, b1, c1])\n",
    "    print(f\"Task {i} mean is {tk_mean} and std is {tk_std}\")"
   ]
  },
  {
   "cell_type": "code",
   "execution_count": 6,
   "metadata": {},
   "outputs": [
    {
     "data": {
      "text/plain": [
       "20378.463900239938"
      ]
     },
     "execution_count": 6,
     "metadata": {},
     "output_type": "execute_result"
    }
   ],
   "source": [
    "np.mean([21682.13795351982, 18556.7599472, 20896.4938])"
   ]
  },
  {
   "cell_type": "code",
   "execution_count": null,
   "metadata": {},
   "outputs": [],
   "source": []
  }
 ],
 "metadata": {
  "kernelspec": {
   "display_name": "cls-afec-venv",
   "language": "python",
   "name": "python3"
  },
  "language_info": {
   "codemirror_mode": {
    "name": "ipython",
    "version": 3
   },
   "file_extension": ".py",
   "mimetype": "text/x-python",
   "name": "python",
   "nbconvert_exporter": "python",
   "pygments_lexer": "ipython3",
   "version": "3.8.10"
  }
 },
 "nbformat": 4,
 "nbformat_minor": 2
}
