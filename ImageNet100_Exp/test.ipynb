{
 "cells": [
  {
   "cell_type": "code",
   "execution_count": 1,
   "metadata": {},
   "outputs": [],
   "source": [
    "import numpy as np"
   ]
  },
  {
   "cell_type": "code",
   "execution_count": 2,
   "metadata": {},
   "outputs": [
    {
     "data": {
      "text/plain": [
       "array(['exp 0 Stable model accuracy : 0.07953932881355286,        Plastic model accuracy : 0.05940194055438042, working model accuracy : 0.04748114198446274',\n",
       "       'exp 1 Stable model accuracy : 0.09873383492231369,        Plastic model accuracy : 0.08701508492231369, working model accuracy : 0.06627155095338821',\n",
       "       'exp 2 Stable model accuracy : 0.046134158968925476,        Plastic model accuracy : 0.038119614124298096, working model accuracy : 0.03596444055438042',\n",
       "       'exp 3 Stable model accuracy : 0.04943426698446274,        Plastic model accuracy : 0.04141971841454506, working model accuracy : 0.03771551698446274',\n",
       "       'exp 4 Stable model accuracy : 0.07724945992231369,        Plastic model accuracy : 0.06883081793785095, working model accuracy : 0.050040408968925476',\n",
       "       'exp 5 Stable model accuracy : 0.1464170217514038,        Plastic model accuracy : 0.14621497690677643, working model accuracy : 0.13018588721752167',\n",
       "       'exp 6 Stable model accuracy : 0.08661098778247833,        Plastic model accuracy : 0.051993533968925476, working model accuracy : 0.049838364124298096',\n",
       "       'exp 7 Stable model accuracy : 0.1845366358757019,        Plastic model accuracy : 0.17807111144065857, working model accuracy : 0.12668372690677643',\n",
       "       'exp 8 Stable model accuracy : 0.22029903531074524,        Plastic model accuracy : 0.24043641984462738, working model accuracy : 0.11570581793785095',\n",
       "       'exp 9 Stable model accuracy : 0.1620420217514038,        Plastic model accuracy : 0.5317214727401733, working model accuracy : 0.6026400923728943',\n",
       "       'duration 20985.79430413246'], dtype='<U150')"
      ]
     },
     "execution_count": 2,
     "metadata": {},
     "output_type": "execute_result"
    }
   ],
   "source": [
    "a = np.load(\"results/text_experiences10_bufferSize20000.npy\")\n",
    "a"
   ]
  },
  {
   "cell_type": "code",
   "execution_count": 3,
   "metadata": {},
   "outputs": [
    {
     "data": {
      "text/plain": [
       "array(['exp 0 Stable model accuracy : 0.07367995381355286,        Plastic model accuracy : 0.04182381555438042, working model accuracy : 0.03771551698446274',\n",
       "       'exp 1 Stable model accuracy : 0.08580280095338821,        Plastic model accuracy : 0.08755388110876083, working model accuracy : 0.08620689809322357',\n",
       "       'exp 2 Stable model accuracy : 0.062163256108760834,        Plastic model accuracy : 0.055697739124298096, working model accuracy : 0.057852908968925476',\n",
       "       'exp 3 Stable model accuracy : 0.05549569055438042,        Plastic model accuracy : 0.055697739124298096, working model accuracy : 0.05919989198446274',\n",
       "       'exp 4 Stable model accuracy : 0.07367995381355286,        Plastic model accuracy : 0.056101832538843155, working model accuracy : 0.060412175953388214',\n",
       "       'exp 5 Stable model accuracy : 0.11826508492231369,        Plastic model accuracy : 0.10008081793785095, working model accuracy : 0.08600485324859619',\n",
       "       'exp 6 Stable model accuracy : 0.10870151221752167,        Plastic model accuracy : 0.09011314809322357, working model accuracy : 0.06802263110876083',\n",
       "       'exp 7 Stable model accuracy : 0.1815732717514038,        Plastic model accuracy : 0.15167026221752167, working model accuracy : 0.08991110324859619',\n",
       "       'exp 8 Stable model accuracy : 0.23983028531074524,        Plastic model accuracy : 0.22009697556495667, working model accuracy : 0.11240570992231369',\n",
       "       'exp 9 Stable model accuracy : 0.06681034713983536,        Plastic model accuracy : 0.5010102391242981, working model accuracy : 0.6063442826271057',\n",
       "       'duration 21300.572528123856'], dtype='<U151')"
      ]
     },
     "execution_count": 3,
     "metadata": {},
     "output_type": "execute_result"
    }
   ],
   "source": [
    "b = np.load(\"results/text_experiences10_bufferSize20001.npy\")\n",
    "b"
   ]
  },
  {
   "cell_type": "code",
   "execution_count": 4,
   "metadata": {},
   "outputs": [
    {
     "data": {
      "text/plain": [
       "array(['exp 0 Stable model accuracy : 0.07367995381355286,        Plastic model accuracy : 0.05354256555438042, working model accuracy : 0.04552801698446274',\n",
       "       'exp 1 Stable model accuracy : 0.048491381108760834,        Plastic model accuracy : 0.051993533968925476, working model accuracy : 0.07192888110876083',\n",
       "       'exp 2 Stable model accuracy : 0.046336207538843155,        Plastic model accuracy : 0.03791756555438042, working model accuracy : 0.025996766984462738',\n",
       "       'exp 3 Stable model accuracy : 0.042025864124298096,        Plastic model accuracy : 0.042025864124298096, working model accuracy : 0.024043641984462738',\n",
       "       'exp 4 Stable model accuracy : 0.036368533968925476,        Plastic model accuracy : 0.03401131555438042, working model accuracy : 0.02579472027719021',\n",
       "       'exp 5 Stable model accuracy : 0.08775592595338821,        Plastic model accuracy : 0.08344557881355286, working model accuracy : 0.03966864198446274',\n",
       "       'exp 6 Stable model accuracy : 0.10284213721752167,        Plastic model accuracy : 0.057852908968925476, working model accuracy : 0.03576239198446274',\n",
       "       'exp 7 Stable model accuracy : 0.1923491358757019,        Plastic model accuracy : 0.15247845649719238, working model accuracy : 0.06411638110876083',\n",
       "       'exp 8 Stable model accuracy : 0.22966055572032928,        Plastic model accuracy : 0.19295528531074524, working model accuracy : 0.06782057881355286',\n",
       "       'exp 9 Stable model accuracy : 0.04573006555438042,        Plastic model accuracy : 0.44975754618644714, working model accuracy : 0.5682246685028076',\n",
       "       'duration 22806.082032442093'], dtype='<U151')"
      ]
     },
     "execution_count": 4,
     "metadata": {},
     "output_type": "execute_result"
    }
   ],
   "source": [
    "c = np.load(\"results/text_experiences10_bufferSize20002.npy\")\n",
    "c"
   ]
  },
  {
   "cell_type": "code",
   "execution_count": 5,
   "metadata": {},
   "outputs": [
    {
     "name": "stdout",
     "output_type": "stream",
     "text": [
      "Task 0 mean is 0.07563307333333333 and std is 0.0027621335069873488\n",
      "Task 1 mean is 0.07767600333333333 and std is 0.021301166846703228\n",
      "Task 2 mean is 0.05154453333333334 and std is 0.007509019633562176\n",
      "Task 3 mean is 0.04898527 and std is 0.005508192327330871\n",
      "Task 4 mean is 0.062432643333333336 and std is 0.018487632540920125\n",
      "Task 5 mean is 0.11747934 and std is 0.02395473792820118\n",
      "Task 6 mean is 0.09938487333333335 and std is 0.009343887366067484\n",
      "Task 7 mean is 0.18615300999999998 and std is 0.004545276149527844\n",
      "Task 8 mean is 0.22992995333333333 and std is 0.007975874675446087\n",
      "Task 9 mean is 0.49416308066666664 and std is 0.03381009837035753\n"
     ]
    }
   ],
   "source": [
    "num = 10\n",
    "for i in range(num):\n",
    "    if i == num-1:\n",
    "        a1 = float(a[i][83:93])\n",
    "        b1 = float(b[i][83:93])\n",
    "        c1 = float(c[i][83:93])\n",
    "    else:\n",
    "        a1 = float(a[i][30:40])\n",
    "        b1 = float(b[i][30:40])\n",
    "        c1 = float(c[i][30:40])\n",
    "    tk_mean = np.mean([a1, b1, c1])\n",
    "    tk_std = np.std([a1, b1, c1])\n",
    "    print(f\"Task {i} mean is {tk_mean} and std is {tk_std}\")"
   ]
  },
  {
   "cell_type": "code",
   "execution_count": 3,
   "metadata": {},
   "outputs": [
    {
     "data": {
      "text/plain": [
       "20390.440133130236"
      ]
     },
     "execution_count": 3,
     "metadata": {},
     "output_type": "execute_result"
    }
   ],
   "source": [
    "np.mean([18649.08, 21670.08662939071, 20852.15377])"
   ]
  }
 ],
 "metadata": {
  "kernelspec": {
   "display_name": "cls-afec-venv",
   "language": "python",
   "name": "python3"
  },
  "language_info": {
   "codemirror_mode": {
    "name": "ipython",
    "version": 3
   },
   "file_extension": ".py",
   "mimetype": "text/x-python",
   "name": "python",
   "nbconvert_exporter": "python",
   "pygments_lexer": "ipython3",
   "version": "3.8.10"
  }
 },
 "nbformat": 4,
 "nbformat_minor": 2
}
