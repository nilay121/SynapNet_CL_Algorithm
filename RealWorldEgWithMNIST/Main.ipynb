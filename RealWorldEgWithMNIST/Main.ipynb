{
  "cells": [
    {
      "attachments": {},
      "cell_type": "markdown",
      "metadata": {},
      "source": [
        "1. Download the MNIST train and test dataset from the link: https://drive.google.com/drive/folders/1-toe5U4vVCrs8zy4pohr97uv4uvt6LZE?usp=sharing\n",
        "\n",
        "2. Copy the dataset to the \"csv\" folder"
      ]
    },
    {
      "cell_type": "code",
      "execution_count": 1,
      "metadata": {},
      "outputs": [
        {
          "name": "stderr",
          "output_type": "stream",
          "text": [
            "/home/nilay/cls-afec-venv/lib/python3.8/site-packages/tqdm/auto.py:22: TqdmWarning: IProgress not found. Please update jupyter and ipywidgets. See https://ipywidgets.readthedocs.io/en/stable/user_install.html\n",
            "  from .autonotebook import tqdm as notebook_tqdm\n"
          ]
        }
      ],
      "source": [
        "from plasticModel import PlasticModel\n",
        "from workingModel import WorkingModel \n",
        "from stableModel import StableModel\n",
        "from avalanche.benchmarks.classic import SplitMNIST,SplitFMNIST\n",
        "import numpy as np\n",
        "import matplotlib.pyplot as plt\n",
        "from cls_inhibition_algo import CustomInhibitStrategy\n",
        "import torch\n",
        "import torchvision\n",
        "from avalanche.benchmarks.datasets import MNIST, FashionMNIST, KMNIST, EMNIST, \\\n",
        "QMNIST, FakeData, CocoCaptions, CocoDetection, LSUN, ImageNet, CIFAR10, \\\n",
        "CIFAR100, STL10, SVHN, PhotoTour, SBU, Flickr8k, Flickr30k, VOCDetection, \\\n",
        "VOCSegmentation, Cityscapes, SBDataset, USPS, HMDB51, UCF101, \\\n",
        "CelebA, CORe50Dataset, TinyImagenet, CUB200, OpenLORIS\n",
        "\n",
        "from avalanche.benchmarks.generators import nc_benchmark, ni_benchmark\n",
        "from torchvision.transforms import Compose, ToTensor, Normalize, RandomCrop\n",
        "from torch.utils.data import DataLoader, Subset\n",
        "from sklearn.model_selection import train_test_split\n",
        "from avalanche.benchmarks.utils import AvalancheDataset\n",
        "from torchvision import transforms\n",
        "import pandas as pd\n",
        "import reliability_diagrams\n",
        "import seaborn as sns\n",
        "from torch.utils.data import DataLoader\n",
        "from vae_model import VAE\n",
        "from vae_training import Vae_Cls_Generator\n",
        "from utils import utility_funcs,CustomDatasetForDataLoader"
      ]
    },
    {
      "cell_type": "code",
      "execution_count": 2,
      "metadata": {},
      "outputs": [],
      "source": [
        "device = torch.device(\"cuda\" if torch.cuda.is_available() else \"cpu\")\n",
        "num_epochs=25\n",
        "n_classes=10\n",
        "batch_sizeCLS = 64\n",
        "mini_batchGR = 10#64\n",
        "\n",
        "stable_model_update_freq=0.10\n",
        "plastic_model_update_freq=0.65\n",
        "reg_weight = 0.75\n",
        "\n",
        "patience = 15\n",
        "learning_rate=1e-3\n",
        "\n",
        "## Generator Parameters\n",
        "learning_rateGR = 1e-4\n",
        "batch_sizeGR = 32 \n",
        "num_epochsGR = 15\n",
        "patienceGR = 50  # No patience\n",
        "\n",
        "synthetic_imgHeight = 28\n",
        "synthetic_imgWidth = 28\n",
        "img_channel_dim = 1\n",
        "latent_embedding = 50 \n",
        "\n",
        "num_syntheticExamplesPerDigit = 10  \n",
        "num_originalExamplesPerDigit = 10"
      ]
    },
    {
      "cell_type": "code",
      "execution_count": 3,
      "metadata": {},
      "outputs": [],
      "source": [
        "train_data = pd.read_csv(\"csv/mnist_train.csv\")\n",
        "test_data = pd.read_csv(\"csv/mnist_test.csv\")"
      ]
    },
    {
      "cell_type": "code",
      "execution_count": 4,
      "metadata": {},
      "outputs": [],
      "source": [
        "def unbalancedExpCreation(dataset, data_type):\n",
        "    if data_type == \"train\":\n",
        "        exp1 = dataset[(dataset['label'] == 0) | (dataset['label'] == 1) | (dataset['label'] == 2)]\n",
        "        exp2 = dataset[(dataset['label'] == 3) | (dataset['label'] == 4) | (dataset['label'] == 5) | (dataset['label'] == 6)]\n",
        "        exp2 = exp2.sample(frac=0.50, random_state=32)\n",
        "        exp3 = dataset[(dataset['label'] == 7) | (dataset['label'] == 8) | (dataset['label'] == 9)]\n",
        "        exp1.to_csv(f\"csv/exp1{data_type}.csv\",index=False)\n",
        "        exp2.to_csv(f\"csv/exp2{data_type}.csv\",index=False)\n",
        "        exp3.to_csv(f\"csv/exp3{data_type}.csv\",index=False)\n",
        "    elif data_type == \"test\":\n",
        "        exp1 = dataset[(dataset['label'] == 0) | (dataset['label'] == 1) | (dataset['label'] == 2)]\n",
        "        exp2 = dataset[(dataset['label'] == 3) | (dataset['label'] == 4) | (dataset['label'] == 5) | (dataset['label'] == 6)]\n",
        "        exp3 = dataset[(dataset['label'] == 7) | (dataset['label'] == 8) | (dataset['label'] == 9)]\n",
        "        exp1.to_csv(f\"csv/exp1{data_type}.csv\",index=False)\n",
        "        exp2.to_csv(f\"csv/exp2{data_type}.csv\",index=False)\n",
        "        exp3.to_csv(f\"csv/exp3{data_type}.csv\",index=False)        \n",
        "    print(\"Data created and saved!!\")"
      ]
    },
    {
      "cell_type": "code",
      "execution_count": 5,
      "metadata": {},
      "outputs": [
        {
          "name": "stdout",
          "output_type": "stream",
          "text": [
            "Data created and saved!!\n",
            "Data created and saved!!\n"
          ]
        }
      ],
      "source": [
        "unbalancedExpCreation(train_data, \"train\")\n",
        "unbalancedExpCreation(test_data, \"test\")"
      ]
    },
    {
      "cell_type": "code",
      "execution_count": 6,
      "metadata": {},
      "outputs": [],
      "source": [
        "## Initialize CLS model\n",
        "cl_strategy = CustomInhibitStrategy(working_model=WorkingModel,modelstable=StableModel,modelplastic=PlasticModel,\\\n",
        "stable_model_update_freq=stable_model_update_freq,plastic_model_update_freq=plastic_model_update_freq,\\\n",
        "num_epochs=num_epochs,reg_weight=reg_weight,batch_size=batch_sizeCLS,n_classes=n_classes,\n",
        "n_channel=1,patience=patience,learning_rate=learning_rate,mini_batchGR=mini_batchGR) #CLS strategy\n",
        "\n",
        "## CLS saved model\n",
        "#cl_strategy = torch.load(\"best_models/VaeModelBuffer50039.pickle\")\n",
        "\n",
        "## Initialize Generator model\n",
        "modelGR = VAE(channel_dim=img_channel_dim, latent_embedding = latent_embedding,img_width=synthetic_imgWidth)\n",
        "Vae_Cls_Obj = Vae_Cls_Generator(num_epochs=num_epochsGR,model=modelGR,learning_rate=learning_rateGR,\n",
        "                        batch_size=batch_sizeGR,device=device,patience=patienceGR)\n",
        "\n",
        "## Training and Evaluation\n",
        "results = []\n",
        "buffer_images = []\n",
        "buffer_labels = []\n",
        "stable_pred = []\n",
        "plastic_pred = []"
      ]
    },
    {
      "cell_type": "code",
      "execution_count": 7,
      "metadata": {},
      "outputs": [],
      "source": [
        "exp1 = pd.read_csv(\"csv/exp1train.csv\", sep=\",\")\n",
        "exp1Test = pd.read_csv(\"csv/exp1test.csv\", sep=\",\")\n",
        "exp2 = pd.read_csv(\"csv/exp2train.csv\", sep=\",\")\n",
        "exp2Test = pd.read_csv(\"csv/exp2test.csv\", sep=\",\")\n",
        "exp3 = pd.read_csv(\"csv/exp3train.csv\", sep=\",\")\n",
        "exp3Test = pd.read_csv(\"csv/exp3test.csv\", sep=\",\")"
      ]
    },
    {
      "cell_type": "code",
      "execution_count": 8,
      "metadata": {},
      "outputs": [
        {
          "data": {
            "text/plain": [
              "3    3071\n",
              "4    2983\n",
              "6    2927\n",
              "5    2675\n",
              "Name: label, dtype: int64"
            ]
          },
          "execution_count": 8,
          "metadata": {},
          "output_type": "execute_result"
        }
      ],
      "source": [
        "exp2['label'].value_counts()"
      ]
    },
    {
      "cell_type": "code",
      "execution_count": 9,
      "metadata": {},
      "outputs": [
        {
          "name": "stderr",
          "output_type": "stream",
          "text": [
            "                                                                          "
          ]
        },
        {
          "name": "stdout",
          "output_type": "stream",
          "text": [
            "Generator tarining completed\n"
          ]
        },
        {
          "name": "stderr",
          "output_type": "stream",
          "text": [
            "\r"
          ]
        },
        {
          "name": "stdout",
          "output_type": "stream",
          "text": [
            "Training CL model on current experience\n"
          ]
        },
        {
          "name": "stderr",
          "output_type": "stream",
          "text": [
            "                                                                            \r"
          ]
        },
        {
          "name": "stdout",
          "output_type": "stream",
          "text": [
            "Training completed\n"
          ]
        },
        {
          "name": "stderr",
          "output_type": "stream",
          "text": [
            "100%|██████████| 50/50 [00:00<00:00, 124.59it/s]\n"
          ]
        },
        {
          "name": "stdout",
          "output_type": "stream",
          "text": [
            "exp 0 Stable model accuracy : 0.9853124618530273,      Plastic model accuracy : 0.9884374737739563, working model accuracy : 0.989062488079071\n"
          ]
        }
      ],
      "source": [
        "## Convert to torch dataset\n",
        "exp1_loaderTrain = CustomDatasetForDataLoader(data= np.array((exp1.drop(columns=['label'])/255).astype(\"float32\")), \n",
        "                                         targets=np.array(exp1['label']))\n",
        "exp1_loaderTest = CustomDatasetForDataLoader(data= np.array((exp1Test.drop(columns=['label'])/255).astype(\"float32\")), \n",
        "                                         targets=np.array(exp1Test['label']))\n",
        "## Train\n",
        "Vae_Cls_Obj.train(exp1_loaderTrain)\n",
        "print(\"Generator tarining completed\")\n",
        "for digit in [0,1,2]:\n",
        "    temp_img, temp_labels = utility_funcs.buffer_dataGeneration(digit=digit, experience=exp1_loaderTrain, num_examples=num_syntheticExamplesPerDigit,\n",
        "                                    device=device,model=modelGR,numbOf_orgExamples=num_originalExamplesPerDigit)\n",
        "    buffer_images.append(temp_img)\n",
        "    buffer_labels.append(temp_labels)\n",
        "    \n",
        "print(\"Training CL model on current experience\")    \n",
        "## Train the CL Model\n",
        "stable_model, plastic_model = cl_strategy.train(exp1_loaderTrain,synthetic_imgHeight=synthetic_imgHeight,\n",
        "synthetic_imgWidth=synthetic_imgWidth,buf_inputs=buffer_images,buf_labels=buffer_labels)       \n",
        "print('Training completed')\n",
        "\n",
        "## Evaluation\n",
        "_,_, _,_,_,_ = cl_strategy.evaluate(exp1_loaderTest,exp_counter=0)  ## Output of the stable model needs to be modified with cls output\n",
        "\n",
        "torch.save(stable_model, \"models/stable_model.pickle\")\n",
        "torch.save(plastic_model, \"models/plastic_model.pickle\")"
      ]
    },
    {
      "cell_type": "code",
      "execution_count": 10,
      "metadata": {},
      "outputs": [],
      "source": [
        "# ##########################################################\n",
        "# ####### To Plot the reliability plots for calibration\n",
        "# #########################################################\n",
        "\n",
        "# numb = 10\n",
        "# from torch.utils.data import DataLoader\n",
        "# test_temp=[]\n",
        "# total_len = exp1_loaderTest.targets.__len__()\n",
        "# for data, labels in DataLoader(exp1_loaderTest, batch_size=total_len):\n",
        "#     test_temp.append(labels.cpu().detach().numpy())\n",
        "\n",
        "# test_y = pd.Series(np.array(np.concatenate(test_temp).ravel().tolist()))[0:numb+1]\n",
        "\n",
        "# # pred_probs = np.array(np.concatenate(pred_probsST.cpu().detach().numpy()).ravel().tolist())\n",
        "# pred_probs = pred_probsST.cpu().detach().numpy()[:,1]\n",
        "# pred_probs_space = np.linspace(pred_probs.min(), pred_probs.max(), numb)\n",
        "# print(pred_probs)\n",
        "# empirical_probs = []\n",
        "# pred_probs_midpoints = []\n",
        "# print(len(pred_probs_space))\n",
        "\n",
        "# for i in range(len(pred_probs_space)-1):\n",
        "    \n",
        "#     empirical_probs.append(np.mean(test_y[(pred_probs > pred_probs_space[i]) & (pred_probs < pred_probs_space[i+1])]))\n",
        "#     pred_probs_midpoints.append((pred_probs_space[i] + pred_probs_space[i+1])/2)\n",
        "\n",
        "# plt.figure(figsize=(10,4))\n",
        "# plt.plot(pred_probs_midpoints, empirical_probs, linewidth=2, marker='o')\n",
        "# # plt.title(f\"{model_str}\", fontsize=20)\n",
        "# plt.xlabel('predicted prob', fontsize=14)\n",
        "# plt.ylabel('empirical prob', fontsize=14)\n",
        "\n",
        "# plt.plot([0,1],[0,1],linestyle='--',color='gray')\n",
        "\n",
        "# plt.legend(['original', 'ideal'], fontsize=20)"
      ]
    },
    {
      "cell_type": "code",
      "execution_count": 11,
      "metadata": {},
      "outputs": [
        {
          "name": "stderr",
          "output_type": "stream",
          "text": [
            "                                                                          "
          ]
        },
        {
          "name": "stdout",
          "output_type": "stream",
          "text": [
            "Generator tarining completed\n"
          ]
        },
        {
          "name": "stderr",
          "output_type": "stream",
          "text": [
            "\r"
          ]
        },
        {
          "name": "stdout",
          "output_type": "stream",
          "text": [
            "Training CL model on current experience\n"
          ]
        },
        {
          "name": "stderr",
          "output_type": "stream",
          "text": [
            "                                                                           \r"
          ]
        },
        {
          "name": "stdout",
          "output_type": "stream",
          "text": [
            "Training completed\n"
          ]
        },
        {
          "name": "stderr",
          "output_type": "stream",
          "text": [
            "100%|██████████| 50/50 [00:00<00:00, 121.61it/s]\n"
          ]
        },
        {
          "name": "stdout",
          "output_type": "stream",
          "text": [
            "exp 0 Stable model accuracy : 0.9865624904632568,      Plastic model accuracy : 0.7124147415161133, working model accuracy : 0.5592897534370422\n"
          ]
        },
        {
          "name": "stderr",
          "output_type": "stream",
          "text": [
            "100%|██████████| 61/61 [00:00<00:00, 135.61it/s]\n"
          ]
        },
        {
          "name": "stdout",
          "output_type": "stream",
          "text": [
            "exp 1 Stable model accuracy : 0.034579917788505554,      Plastic model accuracy : 0.9467212557792664, working model accuracy : 0.9521003365516663\n"
          ]
        }
      ],
      "source": [
        "## Convert to torch dataset\n",
        "exp2_loaderTrain = CustomDatasetForDataLoader(data= np.array((exp2.drop(columns=['label'])/255).astype(\"float32\")), \n",
        "                                         targets=np.array(exp2['label']))\n",
        "exp2_loaderTest = CustomDatasetForDataLoader(data= np.array((exp2Test.drop(columns=['label'])/255).astype(\"float32\")), \n",
        "                                         targets=np.array(exp2Test['label']))\n",
        "model_stable = torch.load(\"models/stable_model.pickle\")\n",
        "model_plastic = torch.load(\"models/plastic_model.pickle\")\n",
        "\n",
        "## Train\n",
        "Vae_Cls_Obj.train(exp2_loaderTrain)\n",
        "print(\"Generator tarining completed\")\n",
        "for digit in [3,4,5,6]:\n",
        "    temp_img, temp_labels = utility_funcs.buffer_dataGeneration(digit=digit, experience=exp2_loaderTrain, num_examples=num_syntheticExamplesPerDigit,\n",
        "                                    device=device,model=modelGR,numbOf_orgExamples=num_originalExamplesPerDigit)\n",
        "    buffer_images.append(temp_img)\n",
        "    buffer_labels.append(temp_labels)\n",
        "    \n",
        "print(\"Training CL model on current experience\")    \n",
        "## Train the CL Model\n",
        "stable_model, plastic_model = cl_strategy.train(exp2_loaderTrain,synthetic_imgHeight=synthetic_imgHeight,\n",
        "synthetic_imgWidth=synthetic_imgWidth,buf_inputs=buffer_images,buf_labels=buffer_labels,stable_model=model_stable, \n",
        "plastic_model=model_plastic)       \n",
        "print('Training completed')\n",
        "\n",
        "## Evaluation\n",
        "_,_,_,_,_,_ =cl_strategy.evaluate(exp1_loaderTest,exp_counter=0,stable_model=model_stable, \n",
        "plastic_model=model_plastic)\n",
        "_,_,_,_,_,_ =cl_strategy.evaluate(exp2_loaderTest,exp_counter=1,stable_model=model_stable, \n",
        "plastic_model=model_plastic)\n",
        "\n",
        "torch.save(stable_model, \"models/stable_model.pickle\")\n",
        "torch.save(plastic_model, \"models/plastic_model.pickle\")"
      ]
    },
    {
      "cell_type": "code",
      "execution_count": 12,
      "metadata": {},
      "outputs": [
        {
          "name": "stderr",
          "output_type": "stream",
          "text": [
            "                                                                          "
          ]
        },
        {
          "name": "stdout",
          "output_type": "stream",
          "text": [
            "Generator tarining completed\n"
          ]
        },
        {
          "name": "stderr",
          "output_type": "stream",
          "text": [
            "\r"
          ]
        },
        {
          "name": "stdout",
          "output_type": "stream",
          "text": [
            "Training CL model on current experience\n"
          ]
        },
        {
          "name": "stderr",
          "output_type": "stream",
          "text": [
            "                                                                            \r"
          ]
        },
        {
          "name": "stdout",
          "output_type": "stream",
          "text": [
            "Training completed\n",
            "Starting offline learning for reorganizing memories\n",
            "Loss after 0 epoch for stbale model during sleep phase 2.1397271156311035\n",
            "Loss after 1 epoch for stbale model during sleep phase 2.145864963531494\n",
            "Loss after 2 epoch for stbale model during sleep phase 2.1282260417938232\n",
            "Loss after 3 epoch for stbale model during sleep phase 2.141569137573242\n",
            "Loss after 4 epoch for stbale model during sleep phase 2.126810312271118\n",
            "Loss after 5 epoch for stbale model during sleep phase 2.1427001953125\n",
            "Loss after 6 epoch for stbale model during sleep phase 2.1468076705932617\n",
            "Loss after 7 epoch for stbale model during sleep phase 2.1626148223876953\n",
            "Loss after 8 epoch for stbale model during sleep phase 2.12856388092041\n",
            "Loss after 9 epoch for stbale model during sleep phase 2.1172289848327637\n",
            "Loss after 10 epoch for stbale model during sleep phase 2.1406681537628174\n",
            "Loss after 11 epoch for stbale model during sleep phase 2.149707794189453\n",
            "Loss after 12 epoch for stbale model during sleep phase 2.130176067352295\n",
            "Loss after 13 epoch for stbale model during sleep phase 2.133460283279419\n",
            "Loss after 14 epoch for stbale model during sleep phase 2.1489450931549072\n",
            "Epoch 00016: reducing learning rate of group 0 to 1.0000e-05.\n",
            "Loss after 15 epoch for stbale model during sleep phase 2.12178373336792\n",
            "Loss after 16 epoch for stbale model during sleep phase 2.1530699729919434\n",
            "Loss after 17 epoch for stbale model during sleep phase 2.178692579269409\n",
            "Loss after 18 epoch for stbale model during sleep phase 2.1307382583618164\n",
            "Loss after 19 epoch for stbale model during sleep phase 2.124178171157837\n",
            "Loss after 20 epoch for stbale model during sleep phase 2.1426215171813965\n",
            "Epoch 00022: reducing learning rate of group 0 to 1.0000e-06.\n",
            "Loss after 21 epoch for stbale model during sleep phase 2.141526937484741\n",
            "Loss after 22 epoch for stbale model during sleep phase 2.1379332542419434\n",
            "Loss after 23 epoch for stbale model during sleep phase 2.1411139965057373\n",
            "Loss after 24 epoch for stbale model during sleep phase 2.1522374153137207\n",
            "Loss after 25 epoch for stbale model during sleep phase 2.1406610012054443\n",
            "Loss after 26 epoch for stbale model during sleep phase 2.1397922039031982\n",
            "Epoch 00028: reducing learning rate of group 0 to 1.0000e-07.\n",
            "Loss after 27 epoch for stbale model during sleep phase 2.144473075866699\n",
            "Loss after 28 epoch for stbale model during sleep phase 2.1351025104522705\n",
            "Loss after 29 epoch for stbale model during sleep phase 2.155872344970703\n",
            "Reorganization done\n"
          ]
        }
      ],
      "source": [
        "## Convert to torch dataset\n",
        "exp3_loaderTrain = CustomDatasetForDataLoader(data= np.array((exp3.drop(columns=['label'])/255).astype(\"float32\")), \n",
        "                                         targets=np.array(exp3['label']))\n",
        "exp3_loaderTest = CustomDatasetForDataLoader(data= np.array((exp3Test.drop(columns=['label'])/255).astype(\"float32\")), \n",
        "                                         targets=np.array(exp3Test['label']))\n",
        "\n",
        "model_stable = torch.load(\"models/stable_model.pickle\")\n",
        "model_plastic = torch.load(\"models/plastic_model.pickle\")\n",
        "\n",
        "## Train\n",
        "Vae_Cls_Obj.train(exp3_loaderTrain)\n",
        "print(\"Generator tarining completed\")\n",
        "for digit in [7,8,9]:\n",
        "    temp_img, temp_labels = utility_funcs.buffer_dataGeneration(digit=digit, experience=exp3_loaderTrain, num_examples=num_syntheticExamplesPerDigit,\n",
        "                                    device=device,model=modelGR,numbOf_orgExamples=num_originalExamplesPerDigit)\n",
        "    buffer_images.append(temp_img)\n",
        "    buffer_labels.append(temp_labels)\n",
        "    \n",
        "print(\"Training CL model on current experience\")    \n",
        "## Train the CL Model\n",
        "stable_model, plastic_model = cl_strategy.train(exp3_loaderTrain,synthetic_imgHeight=synthetic_imgHeight,\n",
        "synthetic_imgWidth=synthetic_imgWidth,buf_inputs=buffer_images,buf_labels=buffer_labels,stable_model=model_stable, \n",
        "plastic_model=model_plastic)  \n",
        "print('Training completed')\n",
        "\n",
        "## Sleep phase\n",
        "print(\"Starting offline learning for reorganizing memories\")\n",
        "cl_strategy.offline_reorganizing(buf_inputs=buffer_images,buf_labels=buffer_labels,synthetic_imgHeight=synthetic_imgHeight,\n",
        "synthetic_imgWidth=synthetic_imgWidth,epochs=30,lr_offline=1e-4,offline_batch=32) \n",
        "print(\"Reorganization done\")\n",
        "\n",
        "\n"
      ]
    },
    {
      "cell_type": "code",
      "execution_count": 13,
      "metadata": {},
      "outputs": [
        {
          "name": "stderr",
          "output_type": "stream",
          "text": [
            "100%|██████████| 50/50 [00:00<00:00, 129.20it/s]\n"
          ]
        },
        {
          "name": "stdout",
          "output_type": "stream",
          "text": [
            "exp 0 Stable model accuracy : 0.9065625071525574,      Plastic model accuracy : 0.4959658980369568, working model accuracy : 0.46377840638160706\n"
          ]
        },
        {
          "name": "stderr",
          "output_type": "stream",
          "text": [
            "100%|██████████| 61/61 [00:00<00:00, 125.90it/s]\n"
          ]
        },
        {
          "name": "stdout",
          "output_type": "stream",
          "text": [
            "exp 1 Stable model accuracy : 0.6713626384735107,      Plastic model accuracy : 0.3286372721195221, working model accuracy : 0.30917006731033325\n"
          ]
        },
        {
          "name": "stderr",
          "output_type": "stream",
          "text": [
            "100%|██████████| 48/48 [00:00<00:00, 117.65it/s]"
          ]
        },
        {
          "name": "stdout",
          "output_type": "stream",
          "text": [
            "exp 2 Stable model accuracy : 0.9270833730697632,      Plastic model accuracy : 0.966796875, working model accuracy : 0.96875\n"
          ]
        },
        {
          "name": "stderr",
          "output_type": "stream",
          "text": [
            "\n"
          ]
        }
      ],
      "source": [
        "# Evaluation\n",
        "temp_stb, temp_plas,pred_probsST1,_, pred_labelsST1,_=cl_strategy.evaluate(exp1_loaderTest,exp_counter=0,stable_model=model_stable, \n",
        "plastic_model=model_plastic)\n",
        "stable_pred.append(np.round(temp_stb.cpu().detach().numpy(),decimals=2))\n",
        "plastic_pred.append(np.round(temp_plas.cpu().detach().numpy(),decimals=2))\n",
        "\n",
        "temp_stb, temp_plas,pred_probsST2,_, pred_labelsST2,_=cl_strategy.evaluate(exp2_loaderTest,exp_counter=1,stable_model=model_stable, \n",
        "plastic_model=model_plastic)\n",
        "stable_pred.append(np.round(temp_stb.cpu().detach().numpy(),decimals=2))\n",
        "plastic_pred.append(np.round(temp_plas.cpu().detach().numpy(),decimals=2))\n",
        "\n",
        "temp_stb, temp_plas,_,pred_probsPT3,_,pred_labelsPT3=cl_strategy.evaluate(exp3_loaderTest,exp_counter=2,stable_model=stable_model, \n",
        "plastic_model=plastic_model)\n",
        "stable_pred.append(np.round(temp_stb.cpu().detach().numpy(),decimals=2))\n",
        "plastic_pred.append(np.round(temp_plas.cpu().detach().numpy(),decimals=2))"
      ]
    },
    {
      "cell_type": "code",
      "execution_count": 14,
      "metadata": {},
      "outputs": [],
      "source": [
        "stable_predPlt, plastic_predPlt, cls_outputPlt = utility_funcs.dataPrepToPlot(stable_pred, plastic_pred)"
      ]
    },
    {
      "attachments": {},
      "cell_type": "markdown",
      "metadata": {},
      "source": [
        "Saving N runs"
      ]
    },
    {
      "cell_type": "code",
      "execution_count": 15,
      "metadata": {},
      "outputs": [],
      "source": [
        "stable_predPltNRuns = []\n",
        "plastic_predPltNRuns = []\n",
        "cls_outputPltNRuns = []\n",
        "\n",
        "stable_predPltNRuns.append(stable_predPlt)\n",
        "plastic_predPltNRuns.append(plastic_predPlt)\n",
        "cls_outputPltNRuns.append(cls_outputPlt)"
      ]
    },
    {
      "cell_type": "code",
      "execution_count": 16,
      "metadata": {},
      "outputs": [],
      "source": [
        "#Mean, std after N runs runs for n experinces\n",
        "meanStablePred = np.round(np.sum(stable_predPltNRuns,axis=0)/3,decimals=2)    \n",
        "meanPlasticPred = np.round(np.sum(plastic_predPltNRuns,axis=0)/3,decimals=2)\n",
        "meanClsOutput = np.round(np.sum(cls_outputPltNRuns,axis=0)/3, decimals=2)\n",
        "\n",
        "stdStablePred = np.round(np.std(stable_predPltNRuns,axis=0), decimals=4)   \n",
        "stdPlasticPred = np.round(np.std(plastic_predPltNRuns,axis=0), decimals=4)\n",
        "stdClsOutput = np.round(np.std(cls_outputPltNRuns,axis=0), decimals=4)"
      ]
    },
    {
      "cell_type": "code",
      "execution_count": 17,
      "metadata": {},
      "outputs": [
        {
          "data": {
            "image/png": "[encoded data removed]",
            "text/plain": [
              "<Figure size 640x480 with 1 Axes>"
            ]
          },
          "metadata": {},
          "output_type": "display_data"
        },
        {
          "data": {
            "text/plain": [
              "<Figure size 640x480 with 0 Axes>"
            ]
          },
          "metadata": {},
          "output_type": "display_data"
        }
      ],
      "source": [
        "utility_funcs.barPlotMeanPred(meanPlasticPred, meanStablePred, meanClsOutput, stdStablePred, stdPlasticPred, stdClsOutput)"
      ]
    },
    {
      "cell_type": "code",
      "execution_count": 18,
      "metadata": {},
      "outputs": [],
      "source": [
        "##########################################################\n",
        "####### To Plot the reliability plots for calibration\n",
        "#########################################################\n",
        "\n",
        "test_temp=[]\n",
        "total_len = exp2_loaderTest.targets.__len__()\n",
        "sf = torch.nn.Softmax(dim=1)\n",
        "for data, labels in DataLoader(exp2_loaderTest, batch_size=total_len):\n",
        "    test_temp.append(labels.cpu().detach().numpy())\n",
        "\n",
        "test_y = pd.Series(np.array(np.concatenate(test_temp).ravel().tolist()))\n",
        "pred_labels = pd.Series(np.array(np.concatenate(pred_labelsST2).ravel().tolist()))\n",
        "pred_probs = np.concatenate(pred_probsST2, axis=0 )\n",
        "confidences = sf(torch.tensor(pred_probs)).max(axis=1).values.cpu().detach().numpy()\n",
        "# pred_probs_space = np.linspace(pred_probs.min(), pred_probs.max(), numb)\n",
        "# print(pred_probs)\n",
        "# empirical_probs = []\n",
        "# pred_probs_midpoints = []\n",
        "# print(len(pred_probs_space))\n",
        "\n",
        "# for i in range(len(pred_probs_space)-1):\n",
        "    \n",
        "#     empirical_probs.append(np.mean(test_y[(pred_probs > pred_probs_space[i]) & (pred_probs < pred_probs_space[i+1])]))\n",
        "#     pred_probs_midpoints.append((pred_probs_space[i] + pred_probs_space[i+1])/2)\n",
        "\n",
        "# plt.figure(figsize=(10,4))\n",
        "# plt.plot(pred_probs_midpoints, empirical_probs, linewidth=2, marker='o')\n",
        "# # plt.title(f\"{model_str}\", fontsize=20)\n",
        "# plt.xlabel('predicted prob', fontsize=14)\n",
        "# plt.ylabel('empirical prob', fontsize=14)\n",
        "\n",
        "# plt.plot([0,1],[0,1],linestyle='--',color='gray')\n",
        "\n",
        "# plt.legend(['original', 'ideal'], fontsize=20)"
      ]
    },
    {
      "cell_type": "code",
      "execution_count": 19,
      "metadata": {},
      "outputs": [
        {
          "data": {
            "text/plain": [
              "array([0.21542145, 0.20324506, 0.1739415 , ..., 0.23171598, 0.26218557,\n",
              "       0.36891085], dtype=float32)"
            ]
          },
          "execution_count": 19,
          "metadata": {},
          "output_type": "execute_result"
        }
      ],
      "source": [
        "confidences"
      ]
    },
    {
      "cell_type": "code",
      "execution_count": 20,
      "metadata": {},
      "outputs": [
        {
          "name": "stderr",
          "output_type": "stream",
          "text": [
            "/home/nilay/SynapNet_Project/SynapNet_Algorithm(Main_Implementation)/RealWorldEgWithMNIST/reliability_diagrams.py:177: UserWarning: FixedFormatter should only be used together with FixedLocator\n",
            "  ax[1].set_yticklabels(new_ticks)\n"
          ]
        },
        {
          "data": {
            "image/png": "[encoded data removed]",
            "text/plain": [
              "<Figure size 432x604.8 with 2 Axes>"
            ]
          },
          "metadata": {},
          "output_type": "display_data"
        }
      ],
      "source": [
        "reliability_diagrams.reliability_diagram(true_labels=test_y, pred_labels=pred_labels, \n",
        "                                         confidences=confidences, num_bins=50)"
      ]
    },
    {
      "cell_type": "code",
      "execution_count": null,
      "metadata": {},
      "outputs": [],
      "source": []
    },
    {
      "cell_type": "code",
      "execution_count": null,
      "metadata": {},
      "outputs": [],
      "source": []
    }
  ],
  "metadata": {
    "accelerator": "GPU",
    "colab": {
      "provenance": []
    },
    "gpuClass": "standard",
    "kernelspec": {
      "display_name": "cls-afec-venv",
      "language": "python",
      "name": "python3"
    },
    "language_info": {
      "codemirror_mode": {
        "name": "ipython",
        "version": 3
      },
      "file_extension": ".py",
      "mimetype": "text/x-python",
      "name": "python",
      "nbconvert_exporter": "python",
      "pygments_lexer": "ipython3",
      "version": "3.8.10"
    },
    "vscode": {
      "interpreter": {
        "hash": "ca323e6fc38a74c3c0bd250e533c2ff0045766adf03684103517474c2e5f1b3a"
      }
    },
    "widgets": {
      "application/vnd.jupyter.widget-state+json": {
        "0000e765dc9541cc8aee351962e90c35": {
          "model_module": "@jupyter-widgets/controls",
          "model_module_version": "1.5.0",
          "model_name": "HTMLModel",
          "state": {
            "_dom_classes": [],
            "_model_module": "@jupyter-widgets/controls",
            "_model_module_version": "1.5.0",
            "_model_name": "HTMLModel",
            "_view_count": null,
            "_view_module": "@jupyter-widgets/controls",
            "_view_module_version": "1.5.0",
            "_view_name": "HTMLView",
            "description": "",
            "description_tooltip": null,
            "layout": "IPY_MODEL_b235fc3275804c6db4b1835cd2014cfa",
            "placeholder": "​",
            "style": "IPY_MODEL_c775a0eba8b845ffa1c77078718581d5",
            "value": "100%"
          }
        },
        "0277dd90c99344938583e91a019f95a6": {
          "model_module": "@jupyter-widgets/base",
          "model_module_version": "1.2.0",
          "model_name": "LayoutModel",
          "state": {
            "_model_module": "@jupyter-widgets/base",
            "_model_module_version": "1.2.0",
            "_model_name": "LayoutModel",
            "_view_count": null,
            "_view_module": "@jupyter-widgets/base",
            "_view_module_version": "1.2.0",
            "_view_name": "LayoutView",
            "align_content": null,
            "align_items": null,
            "align_self": null,
            "border": null,
            "bottom": null,
            "display": null,
            "flex": null,
            "flex_flow": null,
            "grid_area": null,
            "grid_auto_columns": null,
            "grid_auto_flow": null,
            "grid_auto_rows": null,
            "grid_column": null,
            "grid_gap": null,
            "grid_row": null,
            "grid_template_areas": null,
            "grid_template_columns": null,
            "grid_template_rows": null,
            "height": null,
            "justify_content": null,
            "justify_items": null,
            "left": null,
            "margin": null,
            "max_height": null,
            "max_width": null,
            "min_height": null,
            "min_width": null,
            "object_fit": null,
            "object_position": null,
            "order": null,
            "overflow": null,
            "overflow_x": null,
            "overflow_y": null,
            "padding": null,
            "right": null,
            "top": null,
            "visibility": null,
            "width": null
          }
        },
        "04bea59998ba4ceca12739b418691ac7": {
          "model_module": "@jupyter-widgets/controls",
          "model_module_version": "1.5.0",
          "model_name": "HTMLModel",
          "state": {
            "_dom_classes": [],
            "_model_module": "@jupyter-widgets/controls",
            "_model_module_version": "1.5.0",
            "_model_name": "HTMLModel",
            "_view_count": null,
            "_view_module": "@jupyter-widgets/controls",
            "_view_module_version": "1.5.0",
            "_view_name": "HTMLView",
            "description": "",
            "description_tooltip": null,
            "layout": "IPY_MODEL_d6c7b6c14f6742fd849554d379ed9faf",
            "placeholder": "​",
            "style": "IPY_MODEL_14b232c5a3cb4237b32a8c39720cd0f9",
            "value": " 1648877/1648877 [00:00&lt;00:00, 20353068.89it/s]"
          }
        },
        "0f7e708b6f164bcb80349cd89ee74ba4": {
          "model_module": "@jupyter-widgets/controls",
          "model_module_version": "1.5.0",
          "model_name": "ProgressStyleModel",
          "state": {
            "_model_module": "@jupyter-widgets/controls",
            "_model_module_version": "1.5.0",
            "_model_name": "ProgressStyleModel",
            "_view_count": null,
            "_view_module": "@jupyter-widgets/base",
            "_view_module_version": "1.2.0",
            "_view_name": "StyleView",
            "bar_color": null,
            "description_width": ""
          }
        },
        "14b232c5a3cb4237b32a8c39720cd0f9": {
          "model_module": "@jupyter-widgets/controls",
          "model_module_version": "1.5.0",
          "model_name": "DescriptionStyleModel",
          "state": {
            "_model_module": "@jupyter-widgets/controls",
            "_model_module_version": "1.5.0",
            "_model_name": "DescriptionStyleModel",
            "_view_count": null,
            "_view_module": "@jupyter-widgets/base",
            "_view_module_version": "1.2.0",
            "_view_name": "StyleView",
            "description_width": ""
          }
        },
        "16087c4379b644efbc94ac6e8f36b710": {
          "model_module": "@jupyter-widgets/controls",
          "model_module_version": "1.5.0",
          "model_name": "FloatProgressModel",
          "state": {
            "_dom_classes": [],
            "_model_module": "@jupyter-widgets/controls",
            "_model_module_version": "1.5.0",
            "_model_name": "FloatProgressModel",
            "_view_count": null,
            "_view_module": "@jupyter-widgets/controls",
            "_view_module_version": "1.5.0",
            "_view_name": "ProgressView",
            "bar_style": "success",
            "description": "",
            "description_tooltip": null,
            "layout": "IPY_MODEL_0277dd90c99344938583e91a019f95a6",
            "max": 4542,
            "min": 0,
            "orientation": "horizontal",
            "style": "IPY_MODEL_31d60e4e2a5b466bb4d2b191367929fd",
            "value": 4542
          }
        },
        "2047281eb9834d8ea3d961a28051bd3f": {
          "model_module": "@jupyter-widgets/controls",
          "model_module_version": "1.5.0",
          "model_name": "FloatProgressModel",
          "state": {
            "_dom_classes": [],
            "_model_module": "@jupyter-widgets/controls",
            "_model_module_version": "1.5.0",
            "_model_name": "FloatProgressModel",
            "_view_count": null,
            "_view_module": "@jupyter-widgets/controls",
            "_view_module_version": "1.5.0",
            "_view_name": "ProgressView",
            "bar_style": "success",
            "description": "",
            "description_tooltip": null,
            "layout": "IPY_MODEL_cbfa738dc3f145afa5bfb9b774e95166",
            "max": 9912422,
            "min": 0,
            "orientation": "horizontal",
            "style": "IPY_MODEL_6f94ea0094ed419b93d0b59e4fe3000d",
            "value": 9912422
          }
        },
        "239d788384f8487383a62f911026d220": {
          "model_module": "@jupyter-widgets/base",
          "model_module_version": "1.2.0",
          "model_name": "LayoutModel",
          "state": {
            "_model_module": "@jupyter-widgets/base",
            "_model_module_version": "1.2.0",
            "_model_name": "LayoutModel",
            "_view_count": null,
            "_view_module": "@jupyter-widgets/base",
            "_view_module_version": "1.2.0",
            "_view_name": "LayoutView",
            "align_content": null,
            "align_items": null,
            "align_self": null,
            "border": null,
            "bottom": null,
            "display": null,
            "flex": null,
            "flex_flow": null,
            "grid_area": null,
            "grid_auto_columns": null,
            "grid_auto_flow": null,
            "grid_auto_rows": null,
            "grid_column": null,
            "grid_gap": null,
            "grid_row": null,
            "grid_template_areas": null,
            "grid_template_columns": null,
            "grid_template_rows": null,
            "height": null,
            "justify_content": null,
            "justify_items": null,
            "left": null,
            "margin": null,
            "max_height": null,
            "max_width": null,
            "min_height": null,
            "min_width": null,
            "object_fit": null,
            "object_position": null,
            "order": null,
            "overflow": null,
            "overflow_x": null,
            "overflow_y": null,
            "padding": null,
            "right": null,
            "top": null,
            "visibility": null,
            "width": null
          }
        },
        "2ac1acba36124b7eba246db20aa8700f": {
          "model_module": "@jupyter-widgets/controls",
          "model_module_version": "1.5.0",
          "model_name": "DescriptionStyleModel",
          "state": {
            "_model_module": "@jupyter-widgets/controls",
            "_model_module_version": "1.5.0",
            "_model_name": "DescriptionStyleModel",
            "_view_count": null,
            "_view_module": "@jupyter-widgets/base",
            "_view_module_version": "1.2.0",
            "_view_name": "StyleView",
            "description_width": ""
          }
        },
        "2b240042ee5345368ee78688fcbdce85": {
          "model_module": "@jupyter-widgets/base",
          "model_module_version": "1.2.0",
          "model_name": "LayoutModel",
          "state": {
            "_model_module": "@jupyter-widgets/base",
            "_model_module_version": "1.2.0",
            "_model_name": "LayoutModel",
            "_view_count": null,
            "_view_module": "@jupyter-widgets/base",
            "_view_module_version": "1.2.0",
            "_view_name": "LayoutView",
            "align_content": null,
            "align_items": null,
            "align_self": null,
            "border": null,
            "bottom": null,
            "display": null,
            "flex": null,
            "flex_flow": null,
            "grid_area": null,
            "grid_auto_columns": null,
            "grid_auto_flow": null,
            "grid_auto_rows": null,
            "grid_column": null,
            "grid_gap": null,
            "grid_row": null,
            "grid_template_areas": null,
            "grid_template_columns": null,
            "grid_template_rows": null,
            "height": null,
            "justify_content": null,
            "justify_items": null,
            "left": null,
            "margin": null,
            "max_height": null,
            "max_width": null,
            "min_height": null,
            "min_width": null,
            "object_fit": null,
            "object_position": null,
            "order": null,
            "overflow": null,
            "overflow_x": null,
            "overflow_y": null,
            "padding": null,
            "right": null,
            "top": null,
            "visibility": null,
            "width": null
          }
        },
        "2cdf8191716f4900ba26e50e5a0bec53": {
          "model_module": "@jupyter-widgets/controls",
          "model_module_version": "1.5.0",
          "model_name": "DescriptionStyleModel",
          "state": {
            "_model_module": "@jupyter-widgets/controls",
            "_model_module_version": "1.5.0",
            "_model_name": "DescriptionStyleModel",
            "_view_count": null,
            "_view_module": "@jupyter-widgets/base",
            "_view_module_version": "1.2.0",
            "_view_name": "StyleView",
            "description_width": ""
          }
        },
        "31d60e4e2a5b466bb4d2b191367929fd": {
          "model_module": "@jupyter-widgets/controls",
          "model_module_version": "1.5.0",
          "model_name": "ProgressStyleModel",
          "state": {
            "_model_module": "@jupyter-widgets/controls",
            "_model_module_version": "1.5.0",
            "_model_name": "ProgressStyleModel",
            "_view_count": null,
            "_view_module": "@jupyter-widgets/base",
            "_view_module_version": "1.2.0",
            "_view_name": "StyleView",
            "bar_color": null,
            "description_width": ""
          }
        },
        "326dcaf7f6494955be3caa6cd76d013a": {
          "model_module": "@jupyter-widgets/controls",
          "model_module_version": "1.5.0",
          "model_name": "DescriptionStyleModel",
          "state": {
            "_model_module": "@jupyter-widgets/controls",
            "_model_module_version": "1.5.0",
            "_model_name": "DescriptionStyleModel",
            "_view_count": null,
            "_view_module": "@jupyter-widgets/base",
            "_view_module_version": "1.2.0",
            "_view_name": "StyleView",
            "description_width": ""
          }
        },
        "37938ce5fcb04f6495b3e3b2fad674e8": {
          "model_module": "@jupyter-widgets/base",
          "model_module_version": "1.2.0",
          "model_name": "LayoutModel",
          "state": {
            "_model_module": "@jupyter-widgets/base",
            "_model_module_version": "1.2.0",
            "_model_name": "LayoutModel",
            "_view_count": null,
            "_view_module": "@jupyter-widgets/base",
            "_view_module_version": "1.2.0",
            "_view_name": "LayoutView",
            "align_content": null,
            "align_items": null,
            "align_self": null,
            "border": null,
            "bottom": null,
            "display": null,
            "flex": null,
            "flex_flow": null,
            "grid_area": null,
            "grid_auto_columns": null,
            "grid_auto_flow": null,
            "grid_auto_rows": null,
            "grid_column": null,
            "grid_gap": null,
            "grid_row": null,
            "grid_template_areas": null,
            "grid_template_columns": null,
            "grid_template_rows": null,
            "height": null,
            "justify_content": null,
            "justify_items": null,
            "left": null,
            "margin": null,
            "max_height": null,
            "max_width": null,
            "min_height": null,
            "min_width": null,
            "object_fit": null,
            "object_position": null,
            "order": null,
            "overflow": null,
            "overflow_x": null,
            "overflow_y": null,
            "padding": null,
            "right": null,
            "top": null,
            "visibility": null,
            "width": null
          }
        },
        "43628444c4a34e688ba30d15862b607d": {
          "model_module": "@jupyter-widgets/controls",
          "model_module_version": "1.5.0",
          "model_name": "DescriptionStyleModel",
          "state": {
            "_model_module": "@jupyter-widgets/controls",
            "_model_module_version": "1.5.0",
            "_model_name": "DescriptionStyleModel",
            "_view_count": null,
            "_view_module": "@jupyter-widgets/base",
            "_view_module_version": "1.2.0",
            "_view_name": "StyleView",
            "description_width": ""
          }
        },
        "4d80aa7ceab74ca286f6ecc4cd27e79a": {
          "model_module": "@jupyter-widgets/base",
          "model_module_version": "1.2.0",
          "model_name": "LayoutModel",
          "state": {
            "_model_module": "@jupyter-widgets/base",
            "_model_module_version": "1.2.0",
            "_model_name": "LayoutModel",
            "_view_count": null,
            "_view_module": "@jupyter-widgets/base",
            "_view_module_version": "1.2.0",
            "_view_name": "LayoutView",
            "align_content": null,
            "align_items": null,
            "align_self": null,
            "border": null,
            "bottom": null,
            "display": null,
            "flex": null,
            "flex_flow": null,
            "grid_area": null,
            "grid_auto_columns": null,
            "grid_auto_flow": null,
            "grid_auto_rows": null,
            "grid_column": null,
            "grid_gap": null,
            "grid_row": null,
            "grid_template_areas": null,
            "grid_template_columns": null,
            "grid_template_rows": null,
            "height": null,
            "justify_content": null,
            "justify_items": null,
            "left": null,
            "margin": null,
            "max_height": null,
            "max_width": null,
            "min_height": null,
            "min_width": null,
            "object_fit": null,
            "object_position": null,
            "order": null,
            "overflow": null,
            "overflow_x": null,
            "overflow_y": null,
            "padding": null,
            "right": null,
            "top": null,
            "visibility": null,
            "width": null
          }
        },
        "54982c880c8d4a798ff19a5e397a1e25": {
          "model_module": "@jupyter-widgets/controls",
          "model_module_version": "1.5.0",
          "model_name": "DescriptionStyleModel",
          "state": {
            "_model_module": "@jupyter-widgets/controls",
            "_model_module_version": "1.5.0",
            "_model_name": "DescriptionStyleModel",
            "_view_count": null,
            "_view_module": "@jupyter-widgets/base",
            "_view_module_version": "1.2.0",
            "_view_name": "StyleView",
            "description_width": ""
          }
        },
        "583b672502674c2e9dd21b5f5ee9d46f": {
          "model_module": "@jupyter-widgets/controls",
          "model_module_version": "1.5.0",
          "model_name": "HTMLModel",
          "state": {
            "_dom_classes": [],
            "_model_module": "@jupyter-widgets/controls",
            "_model_module_version": "1.5.0",
            "_model_name": "HTMLModel",
            "_view_count": null,
            "_view_module": "@jupyter-widgets/controls",
            "_view_module_version": "1.5.0",
            "_view_name": "HTMLView",
            "description": "",
            "description_tooltip": null,
            "layout": "IPY_MODEL_4d80aa7ceab74ca286f6ecc4cd27e79a",
            "placeholder": "​",
            "style": "IPY_MODEL_54982c880c8d4a798ff19a5e397a1e25",
            "value": " 9912422/9912422 [00:00&lt;00:00, 23809118.77it/s]"
          }
        },
        "58d3365cdb5448529f4ad2355f511caa": {
          "model_module": "@jupyter-widgets/base",
          "model_module_version": "1.2.0",
          "model_name": "LayoutModel",
          "state": {
            "_model_module": "@jupyter-widgets/base",
            "_model_module_version": "1.2.0",
            "_model_name": "LayoutModel",
            "_view_count": null,
            "_view_module": "@jupyter-widgets/base",
            "_view_module_version": "1.2.0",
            "_view_name": "LayoutView",
            "align_content": null,
            "align_items": null,
            "align_self": null,
            "border": null,
            "bottom": null,
            "display": null,
            "flex": null,
            "flex_flow": null,
            "grid_area": null,
            "grid_auto_columns": null,
            "grid_auto_flow": null,
            "grid_auto_rows": null,
            "grid_column": null,
            "grid_gap": null,
            "grid_row": null,
            "grid_template_areas": null,
            "grid_template_columns": null,
            "grid_template_rows": null,
            "height": null,
            "justify_content": null,
            "justify_items": null,
            "left": null,
            "margin": null,
            "max_height": null,
            "max_width": null,
            "min_height": null,
            "min_width": null,
            "object_fit": null,
            "object_position": null,
            "order": null,
            "overflow": null,
            "overflow_x": null,
            "overflow_y": null,
            "padding": null,
            "right": null,
            "top": null,
            "visibility": null,
            "width": null
          }
        },
        "59726155843845b49e636d584f44dc59": {
          "model_module": "@jupyter-widgets/base",
          "model_module_version": "1.2.0",
          "model_name": "LayoutModel",
          "state": {
            "_model_module": "@jupyter-widgets/base",
            "_model_module_version": "1.2.0",
            "_model_name": "LayoutModel",
            "_view_count": null,
            "_view_module": "@jupyter-widgets/base",
            "_view_module_version": "1.2.0",
            "_view_name": "LayoutView",
            "align_content": null,
            "align_items": null,
            "align_self": null,
            "border": null,
            "bottom": null,
            "display": null,
            "flex": null,
            "flex_flow": null,
            "grid_area": null,
            "grid_auto_columns": null,
            "grid_auto_flow": null,
            "grid_auto_rows": null,
            "grid_column": null,
            "grid_gap": null,
            "grid_row": null,
            "grid_template_areas": null,
            "grid_template_columns": null,
            "grid_template_rows": null,
            "height": null,
            "justify_content": null,
            "justify_items": null,
            "left": null,
            "margin": null,
            "max_height": null,
            "max_width": null,
            "min_height": null,
            "min_width": null,
            "object_fit": null,
            "object_position": null,
            "order": null,
            "overflow": null,
            "overflow_x": null,
            "overflow_y": null,
            "padding": null,
            "right": null,
            "top": null,
            "visibility": null,
            "width": null
          }
        },
        "5ae6b1afa165448c9fcbfaa1a6f182eb": {
          "model_module": "@jupyter-widgets/controls",
          "model_module_version": "1.5.0",
          "model_name": "HTMLModel",
          "state": {
            "_dom_classes": [],
            "_model_module": "@jupyter-widgets/controls",
            "_model_module_version": "1.5.0",
            "_model_name": "HTMLModel",
            "_view_count": null,
            "_view_module": "@jupyter-widgets/controls",
            "_view_module_version": "1.5.0",
            "_view_name": "HTMLView",
            "description": "",
            "description_tooltip": null,
            "layout": "IPY_MODEL_878b28aa51e84d1887aff496c6a9ab48",
            "placeholder": "​",
            "style": "IPY_MODEL_bd75d7c5a3aa473a8ed6c01c60d97ce4",
            "value": " 28881/28881 [00:00&lt;00:00, 1486218.12it/s]"
          }
        },
        "6f94ea0094ed419b93d0b59e4fe3000d": {
          "model_module": "@jupyter-widgets/controls",
          "model_module_version": "1.5.0",
          "model_name": "ProgressStyleModel",
          "state": {
            "_model_module": "@jupyter-widgets/controls",
            "_model_module_version": "1.5.0",
            "_model_name": "ProgressStyleModel",
            "_view_count": null,
            "_view_module": "@jupyter-widgets/base",
            "_view_module_version": "1.2.0",
            "_view_name": "StyleView",
            "bar_color": null,
            "description_width": ""
          }
        },
        "6fd822b0cdc0433a90fe117c54ac024f": {
          "model_module": "@jupyter-widgets/controls",
          "model_module_version": "1.5.0",
          "model_name": "HTMLModel",
          "state": {
            "_dom_classes": [],
            "_model_module": "@jupyter-widgets/controls",
            "_model_module_version": "1.5.0",
            "_model_name": "HTMLModel",
            "_view_count": null,
            "_view_module": "@jupyter-widgets/controls",
            "_view_module_version": "1.5.0",
            "_view_name": "HTMLView",
            "description": "",
            "description_tooltip": null,
            "layout": "IPY_MODEL_239d788384f8487383a62f911026d220",
            "placeholder": "​",
            "style": "IPY_MODEL_43628444c4a34e688ba30d15862b607d",
            "value": "100%"
          }
        },
        "721e9bc14ef84fb3bdb9a6c8641f4824": {
          "model_module": "@jupyter-widgets/controls",
          "model_module_version": "1.5.0",
          "model_name": "HBoxModel",
          "state": {
            "_dom_classes": [],
            "_model_module": "@jupyter-widgets/controls",
            "_model_module_version": "1.5.0",
            "_model_name": "HBoxModel",
            "_view_count": null,
            "_view_module": "@jupyter-widgets/controls",
            "_view_module_version": "1.5.0",
            "_view_name": "HBoxView",
            "box_style": "",
            "children": [
              "IPY_MODEL_6fd822b0cdc0433a90fe117c54ac024f",
              "IPY_MODEL_c1b2ff11523a411090f0df7bf523aad2",
              "IPY_MODEL_04bea59998ba4ceca12739b418691ac7"
            ],
            "layout": "IPY_MODEL_58d3365cdb5448529f4ad2355f511caa"
          }
        },
        "86c76c07f9bf4b4b90e5cdb3e2ec58f4": {
          "model_module": "@jupyter-widgets/base",
          "model_module_version": "1.2.0",
          "model_name": "LayoutModel",
          "state": {
            "_model_module": "@jupyter-widgets/base",
            "_model_module_version": "1.2.0",
            "_model_name": "LayoutModel",
            "_view_count": null,
            "_view_module": "@jupyter-widgets/base",
            "_view_module_version": "1.2.0",
            "_view_name": "LayoutView",
            "align_content": null,
            "align_items": null,
            "align_self": null,
            "border": null,
            "bottom": null,
            "display": null,
            "flex": null,
            "flex_flow": null,
            "grid_area": null,
            "grid_auto_columns": null,
            "grid_auto_flow": null,
            "grid_auto_rows": null,
            "grid_column": null,
            "grid_gap": null,
            "grid_row": null,
            "grid_template_areas": null,
            "grid_template_columns": null,
            "grid_template_rows": null,
            "height": null,
            "justify_content": null,
            "justify_items": null,
            "left": null,
            "margin": null,
            "max_height": null,
            "max_width": null,
            "min_height": null,
            "min_width": null,
            "object_fit": null,
            "object_position": null,
            "order": null,
            "overflow": null,
            "overflow_x": null,
            "overflow_y": null,
            "padding": null,
            "right": null,
            "top": null,
            "visibility": null,
            "width": null
          }
        },
        "878b28aa51e84d1887aff496c6a9ab48": {
          "model_module": "@jupyter-widgets/base",
          "model_module_version": "1.2.0",
          "model_name": "LayoutModel",
          "state": {
            "_model_module": "@jupyter-widgets/base",
            "_model_module_version": "1.2.0",
            "_model_name": "LayoutModel",
            "_view_count": null,
            "_view_module": "@jupyter-widgets/base",
            "_view_module_version": "1.2.0",
            "_view_name": "LayoutView",
            "align_content": null,
            "align_items": null,
            "align_self": null,
            "border": null,
            "bottom": null,
            "display": null,
            "flex": null,
            "flex_flow": null,
            "grid_area": null,
            "grid_auto_columns": null,
            "grid_auto_flow": null,
            "grid_auto_rows": null,
            "grid_column": null,
            "grid_gap": null,
            "grid_row": null,
            "grid_template_areas": null,
            "grid_template_columns": null,
            "grid_template_rows": null,
            "height": null,
            "justify_content": null,
            "justify_items": null,
            "left": null,
            "margin": null,
            "max_height": null,
            "max_width": null,
            "min_height": null,
            "min_width": null,
            "object_fit": null,
            "object_position": null,
            "order": null,
            "overflow": null,
            "overflow_x": null,
            "overflow_y": null,
            "padding": null,
            "right": null,
            "top": null,
            "visibility": null,
            "width": null
          }
        },
        "8cc077b9c77a4da99ddf0f96b52130ba": {
          "model_module": "@jupyter-widgets/base",
          "model_module_version": "1.2.0",
          "model_name": "LayoutModel",
          "state": {
            "_model_module": "@jupyter-widgets/base",
            "_model_module_version": "1.2.0",
            "_model_name": "LayoutModel",
            "_view_count": null,
            "_view_module": "@jupyter-widgets/base",
            "_view_module_version": "1.2.0",
            "_view_name": "LayoutView",
            "align_content": null,
            "align_items": null,
            "align_self": null,
            "border": null,
            "bottom": null,
            "display": null,
            "flex": null,
            "flex_flow": null,
            "grid_area": null,
            "grid_auto_columns": null,
            "grid_auto_flow": null,
            "grid_auto_rows": null,
            "grid_column": null,
            "grid_gap": null,
            "grid_row": null,
            "grid_template_areas": null,
            "grid_template_columns": null,
            "grid_template_rows": null,
            "height": null,
            "justify_content": null,
            "justify_items": null,
            "left": null,
            "margin": null,
            "max_height": null,
            "max_width": null,
            "min_height": null,
            "min_width": null,
            "object_fit": null,
            "object_position": null,
            "order": null,
            "overflow": null,
            "overflow_x": null,
            "overflow_y": null,
            "padding": null,
            "right": null,
            "top": null,
            "visibility": null,
            "width": null
          }
        },
        "8e352591bb8044a7a15fc615187e5177": {
          "model_module": "@jupyter-widgets/controls",
          "model_module_version": "1.5.0",
          "model_name": "ProgressStyleModel",
          "state": {
            "_model_module": "@jupyter-widgets/controls",
            "_model_module_version": "1.5.0",
            "_model_name": "ProgressStyleModel",
            "_view_count": null,
            "_view_module": "@jupyter-widgets/base",
            "_view_module_version": "1.2.0",
            "_view_name": "StyleView",
            "bar_color": null,
            "description_width": ""
          }
        },
        "8e70c48b1f0d40268810341e1be78943": {
          "model_module": "@jupyter-widgets/controls",
          "model_module_version": "1.5.0",
          "model_name": "HBoxModel",
          "state": {
            "_dom_classes": [],
            "_model_module": "@jupyter-widgets/controls",
            "_model_module_version": "1.5.0",
            "_model_name": "HBoxModel",
            "_view_count": null,
            "_view_module": "@jupyter-widgets/controls",
            "_view_module_version": "1.5.0",
            "_view_name": "HBoxView",
            "box_style": "",
            "children": [
              "IPY_MODEL_dafa254bc64b49e9a98533d2aa6e262e",
              "IPY_MODEL_16087c4379b644efbc94ac6e8f36b710",
              "IPY_MODEL_ecd4e8ef07d54326ae2064b994fca6ee"
            ],
            "layout": "IPY_MODEL_d2cd38b3c7424432a2411523e95fe6d0"
          }
        },
        "90fb595487fd4ed2ae8f9cab4891c362": {
          "model_module": "@jupyter-widgets/controls",
          "model_module_version": "1.5.0",
          "model_name": "HBoxModel",
          "state": {
            "_dom_classes": [],
            "_model_module": "@jupyter-widgets/controls",
            "_model_module_version": "1.5.0",
            "_model_name": "HBoxModel",
            "_view_count": null,
            "_view_module": "@jupyter-widgets/controls",
            "_view_module_version": "1.5.0",
            "_view_name": "HBoxView",
            "box_style": "",
            "children": [
              "IPY_MODEL_0000e765dc9541cc8aee351962e90c35",
              "IPY_MODEL_2047281eb9834d8ea3d961a28051bd3f",
              "IPY_MODEL_583b672502674c2e9dd21b5f5ee9d46f"
            ],
            "layout": "IPY_MODEL_86c76c07f9bf4b4b90e5cdb3e2ec58f4"
          }
        },
        "9d2319ab5212487f80a9550d38f37302": {
          "model_module": "@jupyter-widgets/controls",
          "model_module_version": "1.5.0",
          "model_name": "HBoxModel",
          "state": {
            "_dom_classes": [],
            "_model_module": "@jupyter-widgets/controls",
            "_model_module_version": "1.5.0",
            "_model_name": "HBoxModel",
            "_view_count": null,
            "_view_module": "@jupyter-widgets/controls",
            "_view_module_version": "1.5.0",
            "_view_name": "HBoxView",
            "box_style": "",
            "children": [
              "IPY_MODEL_b1867b2ea51c4834b63329e47045d691",
              "IPY_MODEL_ebcfdeaf9b3f4cfbbbe8548948dece50",
              "IPY_MODEL_5ae6b1afa165448c9fcbfaa1a6f182eb"
            ],
            "layout": "IPY_MODEL_dea982d8e18c4bdab63a2bb4048093f1"
          }
        },
        "b1867b2ea51c4834b63329e47045d691": {
          "model_module": "@jupyter-widgets/controls",
          "model_module_version": "1.5.0",
          "model_name": "HTMLModel",
          "state": {
            "_dom_classes": [],
            "_model_module": "@jupyter-widgets/controls",
            "_model_module_version": "1.5.0",
            "_model_name": "HTMLModel",
            "_view_count": null,
            "_view_module": "@jupyter-widgets/controls",
            "_view_module_version": "1.5.0",
            "_view_name": "HTMLView",
            "description": "",
            "description_tooltip": null,
            "layout": "IPY_MODEL_37938ce5fcb04f6495b3e3b2fad674e8",
            "placeholder": "​",
            "style": "IPY_MODEL_2ac1acba36124b7eba246db20aa8700f",
            "value": "100%"
          }
        },
        "b235fc3275804c6db4b1835cd2014cfa": {
          "model_module": "@jupyter-widgets/base",
          "model_module_version": "1.2.0",
          "model_name": "LayoutModel",
          "state": {
            "_model_module": "@jupyter-widgets/base",
            "_model_module_version": "1.2.0",
            "_model_name": "LayoutModel",
            "_view_count": null,
            "_view_module": "@jupyter-widgets/base",
            "_view_module_version": "1.2.0",
            "_view_name": "LayoutView",
            "align_content": null,
            "align_items": null,
            "align_self": null,
            "border": null,
            "bottom": null,
            "display": null,
            "flex": null,
            "flex_flow": null,
            "grid_area": null,
            "grid_auto_columns": null,
            "grid_auto_flow": null,
            "grid_auto_rows": null,
            "grid_column": null,
            "grid_gap": null,
            "grid_row": null,
            "grid_template_areas": null,
            "grid_template_columns": null,
            "grid_template_rows": null,
            "height": null,
            "justify_content": null,
            "justify_items": null,
            "left": null,
            "margin": null,
            "max_height": null,
            "max_width": null,
            "min_height": null,
            "min_width": null,
            "object_fit": null,
            "object_position": null,
            "order": null,
            "overflow": null,
            "overflow_x": null,
            "overflow_y": null,
            "padding": null,
            "right": null,
            "top": null,
            "visibility": null,
            "width": null
          }
        },
        "bb46c25f848d47e990bb8695c663ea58": {
          "model_module": "@jupyter-widgets/base",
          "model_module_version": "1.2.0",
          "model_name": "LayoutModel",
          "state": {
            "_model_module": "@jupyter-widgets/base",
            "_model_module_version": "1.2.0",
            "_model_name": "LayoutModel",
            "_view_count": null,
            "_view_module": "@jupyter-widgets/base",
            "_view_module_version": "1.2.0",
            "_view_name": "LayoutView",
            "align_content": null,
            "align_items": null,
            "align_self": null,
            "border": null,
            "bottom": null,
            "display": null,
            "flex": null,
            "flex_flow": null,
            "grid_area": null,
            "grid_auto_columns": null,
            "grid_auto_flow": null,
            "grid_auto_rows": null,
            "grid_column": null,
            "grid_gap": null,
            "grid_row": null,
            "grid_template_areas": null,
            "grid_template_columns": null,
            "grid_template_rows": null,
            "height": null,
            "justify_content": null,
            "justify_items": null,
            "left": null,
            "margin": null,
            "max_height": null,
            "max_width": null,
            "min_height": null,
            "min_width": null,
            "object_fit": null,
            "object_position": null,
            "order": null,
            "overflow": null,
            "overflow_x": null,
            "overflow_y": null,
            "padding": null,
            "right": null,
            "top": null,
            "visibility": null,
            "width": null
          }
        },
        "bd75d7c5a3aa473a8ed6c01c60d97ce4": {
          "model_module": "@jupyter-widgets/controls",
          "model_module_version": "1.5.0",
          "model_name": "DescriptionStyleModel",
          "state": {
            "_model_module": "@jupyter-widgets/controls",
            "_model_module_version": "1.5.0",
            "_model_name": "DescriptionStyleModel",
            "_view_count": null,
            "_view_module": "@jupyter-widgets/base",
            "_view_module_version": "1.2.0",
            "_view_name": "StyleView",
            "description_width": ""
          }
        },
        "c1b2ff11523a411090f0df7bf523aad2": {
          "model_module": "@jupyter-widgets/controls",
          "model_module_version": "1.5.0",
          "model_name": "FloatProgressModel",
          "state": {
            "_dom_classes": [],
            "_model_module": "@jupyter-widgets/controls",
            "_model_module_version": "1.5.0",
            "_model_name": "FloatProgressModel",
            "_view_count": null,
            "_view_module": "@jupyter-widgets/controls",
            "_view_module_version": "1.5.0",
            "_view_name": "ProgressView",
            "bar_style": "success",
            "description": "",
            "description_tooltip": null,
            "layout": "IPY_MODEL_8cc077b9c77a4da99ddf0f96b52130ba",
            "max": 1648877,
            "min": 0,
            "orientation": "horizontal",
            "style": "IPY_MODEL_0f7e708b6f164bcb80349cd89ee74ba4",
            "value": 1648877
          }
        },
        "c775a0eba8b845ffa1c77078718581d5": {
          "model_module": "@jupyter-widgets/controls",
          "model_module_version": "1.5.0",
          "model_name": "DescriptionStyleModel",
          "state": {
            "_model_module": "@jupyter-widgets/controls",
            "_model_module_version": "1.5.0",
            "_model_name": "DescriptionStyleModel",
            "_view_count": null,
            "_view_module": "@jupyter-widgets/base",
            "_view_module_version": "1.2.0",
            "_view_name": "StyleView",
            "description_width": ""
          }
        },
        "cbfa738dc3f145afa5bfb9b774e95166": {
          "model_module": "@jupyter-widgets/base",
          "model_module_version": "1.2.0",
          "model_name": "LayoutModel",
          "state": {
            "_model_module": "@jupyter-widgets/base",
            "_model_module_version": "1.2.0",
            "_model_name": "LayoutModel",
            "_view_count": null,
            "_view_module": "@jupyter-widgets/base",
            "_view_module_version": "1.2.0",
            "_view_name": "LayoutView",
            "align_content": null,
            "align_items": null,
            "align_self": null,
            "border": null,
            "bottom": null,
            "display": null,
            "flex": null,
            "flex_flow": null,
            "grid_area": null,
            "grid_auto_columns": null,
            "grid_auto_flow": null,
            "grid_auto_rows": null,
            "grid_column": null,
            "grid_gap": null,
            "grid_row": null,
            "grid_template_areas": null,
            "grid_template_columns": null,
            "grid_template_rows": null,
            "height": null,
            "justify_content": null,
            "justify_items": null,
            "left": null,
            "margin": null,
            "max_height": null,
            "max_width": null,
            "min_height": null,
            "min_width": null,
            "object_fit": null,
            "object_position": null,
            "order": null,
            "overflow": null,
            "overflow_x": null,
            "overflow_y": null,
            "padding": null,
            "right": null,
            "top": null,
            "visibility": null,
            "width": null
          }
        },
        "d2cd38b3c7424432a2411523e95fe6d0": {
          "model_module": "@jupyter-widgets/base",
          "model_module_version": "1.2.0",
          "model_name": "LayoutModel",
          "state": {
            "_model_module": "@jupyter-widgets/base",
            "_model_module_version": "1.2.0",
            "_model_name": "LayoutModel",
            "_view_count": null,
            "_view_module": "@jupyter-widgets/base",
            "_view_module_version": "1.2.0",
            "_view_name": "LayoutView",
            "align_content": null,
            "align_items": null,
            "align_self": null,
            "border": null,
            "bottom": null,
            "display": null,
            "flex": null,
            "flex_flow": null,
            "grid_area": null,
            "grid_auto_columns": null,
            "grid_auto_flow": null,
            "grid_auto_rows": null,
            "grid_column": null,
            "grid_gap": null,
            "grid_row": null,
            "grid_template_areas": null,
            "grid_template_columns": null,
            "grid_template_rows": null,
            "height": null,
            "justify_content": null,
            "justify_items": null,
            "left": null,
            "margin": null,
            "max_height": null,
            "max_width": null,
            "min_height": null,
            "min_width": null,
            "object_fit": null,
            "object_position": null,
            "order": null,
            "overflow": null,
            "overflow_x": null,
            "overflow_y": null,
            "padding": null,
            "right": null,
            "top": null,
            "visibility": null,
            "width": null
          }
        },
        "d6c7b6c14f6742fd849554d379ed9faf": {
          "model_module": "@jupyter-widgets/base",
          "model_module_version": "1.2.0",
          "model_name": "LayoutModel",
          "state": {
            "_model_module": "@jupyter-widgets/base",
            "_model_module_version": "1.2.0",
            "_model_name": "LayoutModel",
            "_view_count": null,
            "_view_module": "@jupyter-widgets/base",
            "_view_module_version": "1.2.0",
            "_view_name": "LayoutView",
            "align_content": null,
            "align_items": null,
            "align_self": null,
            "border": null,
            "bottom": null,
            "display": null,
            "flex": null,
            "flex_flow": null,
            "grid_area": null,
            "grid_auto_columns": null,
            "grid_auto_flow": null,
            "grid_auto_rows": null,
            "grid_column": null,
            "grid_gap": null,
            "grid_row": null,
            "grid_template_areas": null,
            "grid_template_columns": null,
            "grid_template_rows": null,
            "height": null,
            "justify_content": null,
            "justify_items": null,
            "left": null,
            "margin": null,
            "max_height": null,
            "max_width": null,
            "min_height": null,
            "min_width": null,
            "object_fit": null,
            "object_position": null,
            "order": null,
            "overflow": null,
            "overflow_x": null,
            "overflow_y": null,
            "padding": null,
            "right": null,
            "top": null,
            "visibility": null,
            "width": null
          }
        },
        "dafa254bc64b49e9a98533d2aa6e262e": {
          "model_module": "@jupyter-widgets/controls",
          "model_module_version": "1.5.0",
          "model_name": "HTMLModel",
          "state": {
            "_dom_classes": [],
            "_model_module": "@jupyter-widgets/controls",
            "_model_module_version": "1.5.0",
            "_model_name": "HTMLModel",
            "_view_count": null,
            "_view_module": "@jupyter-widgets/controls",
            "_view_module_version": "1.5.0",
            "_view_name": "HTMLView",
            "description": "",
            "description_tooltip": null,
            "layout": "IPY_MODEL_59726155843845b49e636d584f44dc59",
            "placeholder": "​",
            "style": "IPY_MODEL_326dcaf7f6494955be3caa6cd76d013a",
            "value": "100%"
          }
        },
        "dea982d8e18c4bdab63a2bb4048093f1": {
          "model_module": "@jupyter-widgets/base",
          "model_module_version": "1.2.0",
          "model_name": "LayoutModel",
          "state": {
            "_model_module": "@jupyter-widgets/base",
            "_model_module_version": "1.2.0",
            "_model_name": "LayoutModel",
            "_view_count": null,
            "_view_module": "@jupyter-widgets/base",
            "_view_module_version": "1.2.0",
            "_view_name": "LayoutView",
            "align_content": null,
            "align_items": null,
            "align_self": null,
            "border": null,
            "bottom": null,
            "display": null,
            "flex": null,
            "flex_flow": null,
            "grid_area": null,
            "grid_auto_columns": null,
            "grid_auto_flow": null,
            "grid_auto_rows": null,
            "grid_column": null,
            "grid_gap": null,
            "grid_row": null,
            "grid_template_areas": null,
            "grid_template_columns": null,
            "grid_template_rows": null,
            "height": null,
            "justify_content": null,
            "justify_items": null,
            "left": null,
            "margin": null,
            "max_height": null,
            "max_width": null,
            "min_height": null,
            "min_width": null,
            "object_fit": null,
            "object_position": null,
            "order": null,
            "overflow": null,
            "overflow_x": null,
            "overflow_y": null,
            "padding": null,
            "right": null,
            "top": null,
            "visibility": null,
            "width": null
          }
        },
        "ebcfdeaf9b3f4cfbbbe8548948dece50": {
          "model_module": "@jupyter-widgets/controls",
          "model_module_version": "1.5.0",
          "model_name": "FloatProgressModel",
          "state": {
            "_dom_classes": [],
            "_model_module": "@jupyter-widgets/controls",
            "_model_module_version": "1.5.0",
            "_model_name": "FloatProgressModel",
            "_view_count": null,
            "_view_module": "@jupyter-widgets/controls",
            "_view_module_version": "1.5.0",
            "_view_name": "ProgressView",
            "bar_style": "success",
            "description": "",
            "description_tooltip": null,
            "layout": "IPY_MODEL_bb46c25f848d47e990bb8695c663ea58",
            "max": 28881,
            "min": 0,
            "orientation": "horizontal",
            "style": "IPY_MODEL_8e352591bb8044a7a15fc615187e5177",
            "value": 28881
          }
        },
        "ecd4e8ef07d54326ae2064b994fca6ee": {
          "model_module": "@jupyter-widgets/controls",
          "model_module_version": "1.5.0",
          "model_name": "HTMLModel",
          "state": {
            "_dom_classes": [],
            "_model_module": "@jupyter-widgets/controls",
            "_model_module_version": "1.5.0",
            "_model_name": "HTMLModel",
            "_view_count": null,
            "_view_module": "@jupyter-widgets/controls",
            "_view_module_version": "1.5.0",
            "_view_name": "HTMLView",
            "description": "",
            "description_tooltip": null,
            "layout": "IPY_MODEL_2b240042ee5345368ee78688fcbdce85",
            "placeholder": "​",
            "style": "IPY_MODEL_2cdf8191716f4900ba26e50e5a0bec53",
            "value": " 4542/4542 [00:00&lt;00:00, 158873.56it/s]"
          }
        }
      }
    }
  },
  "nbformat": 4,
  "nbformat_minor": 0
}
